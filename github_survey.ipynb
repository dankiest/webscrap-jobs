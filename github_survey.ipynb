{
 "cells": [
  {
   "cell_type": "code",
   "execution_count": 1,
   "metadata": {},
   "outputs": [],
   "source": [
    "from bs4 import BeautifulSoup\n",
    "import re\n",
    "import pandas as pd\n",
    "import os \n",
    "\n",
    "from selenium import webdriver\n",
    "from selenium.webdriver.chrome.service import Service\n",
    "from selenium.webdriver.common.by import By\n",
    "from selenium.webdriver.chrome.options import Options"
   ]
  },
  {
   "cell_type": "code",
   "execution_count": 3,
   "metadata": {},
   "outputs": [
    {
     "name": "stdout",
     "output_type": "stream",
     "text": [
      "/home/caio/chromedriver/stable/chromedriver\n"
     ]
    }
   ],
   "source": [
    "url = \"https://madnight.github.io/githut/#/{action}/{year}/{quarter}\"\n",
    "\n",
    "## Setup chrome options\n",
    "chrome_options = Options()\n",
    "chrome_options.add_argument(\"--headless\") # Ensure GUI is off\n",
    "#chrome_options.add_argument(\"\")\n",
    "\n",
    "# Set path to chromedriver as per your configuration\n",
    "homedir = os.path.expanduser(\"~\")\n",
    "print(f\"{homedir}/chromedriver/stable/chromedriver\")\n",
    "webdriver_service = Service(f\"{homedir}/chromedriver/stable/chromedriver\")\n",
    "\n",
    "# Choose Chrome Browser\n",
    "browser = webdriver.Chrome(service=webdriver_service, options=chrome_options)\n",
    "def request_survey(action, year, quarter):\n",
    "    browser.get(url.format(action=action, year=year, quarter=quarter))\n",
    "    site = BeautifulSoup(browser.page_source, \"html.parser\")\n",
    "    if site:\n",
    "        rows = []\n",
    "        for tr in site.find(\"div\", class_=\"react-bs-container-body\").find('table').find_all('tr'):\n",
    "            row = [year, quarter, action]\n",
    "            row.extend([v.text.replace('\\xa0','') for v in tr.find_all('td') if v.text])\n",
    "            rows.append(row)\n",
    "        return rows"
   ]
  },
  {
   "cell_type": "code",
   "execution_count": 6,
   "metadata": {},
   "outputs": [],
   "source": [
    "ds = []\n",
    "years = range(2013, 2024)\n",
    "quarters = range(1,5)\n",
    "actions = ['pull_requests', 'pushes', 'stars', 'issues']\n",
    "\n",
    "for year in years:\n",
    "    for quarter in quarters:\n",
    "        for action in actions:\n",
    "           ds.extend(request_survey(action, year, quarter))\n",
    "\n",
    "df = pd.DataFrame(ds, columns=['year', 'quarter', 'action', 'ranking', 'language', 'percent'])"
   ]
  },
  {
   "cell_type": "code",
   "execution_count": 8,
   "metadata": {},
   "outputs": [],
   "source": [
    "df.to_csv(\"github_survey.csv\", index=False)"
   ]
  }
 ],
 "metadata": {
  "kernelspec": {
   "display_name": "venv",
   "language": "python",
   "name": "python3"
  },
  "language_info": {
   "codemirror_mode": {
    "name": "ipython",
    "version": 3
   },
   "file_extension": ".py",
   "mimetype": "text/x-python",
   "name": "python",
   "nbconvert_exporter": "python",
   "pygments_lexer": "ipython3",
   "version": "3.10.12"
  }
 },
 "nbformat": 4,
 "nbformat_minor": 2
}
